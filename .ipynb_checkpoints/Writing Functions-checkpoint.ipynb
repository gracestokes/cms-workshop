{
 "cells": [
  {
   "cell_type": "markdown",
   "metadata": {},
   "source": [
    "## Defining and running a function"
   ]
  },
  {
   "cell_type": "code",
   "execution_count": 1,
   "metadata": {},
   "outputs": [],
   "source": [
    "# a function should only perform ONE computational task\n",
    "# how to define a function\n",
    "# this is generic syntax for how to define a function\n",
    "# def function_name(parameters):\n",
    "#     ** body of your code **\n",
    "#    return value_to_return"
   ]
  },
  {
   "cell_type": "code",
   "execution_count": 4,
   "metadata": {},
   "outputs": [
    {
     "name": "stdout",
     "output_type": "stream",
     "text": [
      "O to H1:0.969\n",
      "O to H2:0.969\n"
     ]
    }
   ],
   "source": [
    "import numpy\n",
    "import os\n",
    "\n",
    "file_location = os.path.join('data','water.xyz')\n",
    "xyz_file = numpy.genfromtxt(fname=file_location,skip_header=2,dtype='unicode')\n",
    "symbols = xyz_file[:,0]\n",
    "coordinates = xyz_file[:,1:]\n",
    "coordinates = coordinates.astype(numpy.float)\n",
    "num_atoms = len(symbols)\n",
    "for atom1 in range(0,num_atoms):\n",
    "    for atom2 in range(0,num_atoms):\n",
    "        if atom1 < atom2:\n",
    "            distance=calculate_distance(coordinates[atom1],coordinates[atom2])\n",
    "            #this calls the function below and you need to have already SHIFT-ENTERED the cell below for this cell to work\n",
    "            if distance > 0 and distance <= 1.5: \n",
    "                print(F'{symbols[atom1]} to {symbols[atom2]}:{distance:.3f}')\n",
    "        #truncate number of decimal places with :.3f"
   ]
  },
  {
   "cell_type": "code",
   "execution_count": 3,
   "metadata": {},
   "outputs": [],
   "source": [
    "def calculate_distance(coordinates1,coordinates2):\n",
    "    x_distance=coordinates1[0]-coordinates2[0]\n",
    "    y_distance=coordinates1[1]-coordinates2[1]\n",
    "    z_distance=coordinates1[2]-coordinates2[2]\n",
    "    distance_12 = numpy.sqrt(x_distance**2+y_distance**2+z_distance**2)\n",
    "    return distance_12"
   ]
  },
  {
   "cell_type": "code",
   "execution_count": 12,
   "metadata": {},
   "outputs": [],
   "source": [
    "def bond_check(atom_distance, minimum_length=0, maximum_length=1.5):\n",
    "    \"\"\"\n",
    "    Checks if a distance is a bond based on minimum and maximum (in units of Angstroms) bond length.\n",
    "    \"\"\"\n",
    "    if atom_distance > minimum_length and atom_distance <= maximum_length:\n",
    "        return True\n",
    "    else:\n",
    "        return False\n",
    "    #True and False have a defined meaning in Python (boolean operators)"
   ]
  },
  {
   "cell_type": "code",
   "execution_count": 7,
   "metadata": {},
   "outputs": [
    {
     "data": {
      "text/plain": [
       "True"
      ]
     },
     "execution_count": 7,
     "metadata": {},
     "output_type": "execute_result"
    }
   ],
   "source": [
    "bond_check(1)"
   ]
  },
  {
   "cell_type": "code",
   "execution_count": 9,
   "metadata": {},
   "outputs": [
    {
     "data": {
      "text/plain": [
       "False"
      ]
     },
     "execution_count": 9,
     "metadata": {},
     "output_type": "execute_result"
    }
   ],
   "source": [
    "bond_check(1.2, 1.8, 2.3)"
   ]
  },
  {
   "cell_type": "code",
   "execution_count": 10,
   "metadata": {},
   "outputs": [
    {
     "data": {
      "text/plain": [
       "True"
      ]
     },
     "execution_count": 10,
     "metadata": {},
     "output_type": "execute_result"
    }
   ],
   "source": [
    "bond_check(1.8, 1.2, 2.3)"
   ]
  },
  {
   "cell_type": "code",
   "execution_count": 17,
   "metadata": {},
   "outputs": [
    {
     "data": {
      "text/plain": [
       "False"
      ]
     },
     "execution_count": 17,
     "metadata": {},
     "output_type": "execute_result"
    }
   ],
   "source": [
    "bond_check_check(2.3,1.2,1.8)"
   ]
  },
  {
   "cell_type": "code",
   "execution_count": 13,
   "metadata": {},
   "outputs": [
    {
     "name": "stdout",
     "output_type": "stream",
     "text": [
      "Help on function bond_check in module __main__:\n",
      "\n",
      "bond_check(atom_distance, minimum_length=0, maximum_length=1.5)\n",
      "    Checks if a distance is a bond based on minimum and maximum (in units of Angstroms) bond length.\n",
      "\n"
     ]
    }
   ],
   "source": [
    "help(bond_check)\n",
    "# how to write documentation to tell user how a function works"
   ]
  },
  {
   "cell_type": "code",
   "execution_count": 14,
   "metadata": {},
   "outputs": [
    {
     "name": "stdout",
     "output_type": "stream",
     "text": [
      "O to H1:0.969\n",
      "O to H2:0.969\n"
     ]
    }
   ],
   "source": [
    "import numpy\n",
    "import os\n",
    "\n",
    "file_location = os.path.join('data','water.xyz')\n",
    "xyz_file = numpy.genfromtxt(fname=file_location,skip_header=2,dtype='unicode')\n",
    "symbols = xyz_file[:,0]\n",
    "coordinates = xyz_file[:,1:]\n",
    "coordinates = coordinates.astype(numpy.float)\n",
    "num_atoms = len(symbols)\n",
    "for atom1 in range(0,num_atoms):\n",
    "    for atom2 in range(0,num_atoms):\n",
    "        if atom1 < atom2:\n",
    "            distance=calculate_distance(coordinates[atom1],coordinates[atom2])\n",
    "            #this calls the function below and you need to have already SHIFT-ENTERED the cell below for this cell to work\n",
    "            if bond_check(distance) is True:\n",
    "                #is True is optional because default is True\n",
    "                print(F'{symbols[atom1]} to {symbols[atom2]}:{distance:.3f}')\n",
    "        #truncate number of decimal places with :.3f"
   ]
  },
  {
   "cell_type": "code",
   "execution_count": 26,
   "metadata": {},
   "outputs": [],
   "source": [
    "# I am at 2 hours 5 minutes in Session 3 video.\n",
    "# The homework is using benzene instead of H2O\n",
    "# I don't know why we need to put everything in ONE cell. \n",
    "# Seems like too much and if there are errors, easy to be confusing.\n",
    "# Standard way to organize Python code:\n",
    "# Import libraries\n",
    "# What functions you wrote\n",
    "# Then, body of code"
   ]
  },
  {
   "cell_type": "code",
   "execution_count": 15,
   "metadata": {},
   "outputs": [],
   "source": [
    "import numpy\n",
    "import os\n",
    "\n",
    "def calculate_distance(coordinates1,coordinates2):\n",
    "    x_distance=coordinates1[0]-coordinates2[0]\n",
    "    y_distance=coordinates1[1]-coordinates2[1]\n",
    "    z_distance=coordinates1[2]-coordinates2[2]\n",
    "    distance_12 = numpy.sqrt(x_distance**2+y_distance**2+z_distance**2)\n",
    "    return distance_12\n",
    "\n",
    "def bond_check(atom_distance, minimum_length=0, maximum_length=1.5):\n",
    "    \"\"\"\n",
    "    Check if a distance is a bond based on a minimum and maximum bond length\n",
    "    \"\"\"\n",
    "    if atom_distance > minimum_distance and atom_distance <= maximum_length:\n",
    "        return True\n",
    "    else:\n",
    "        return False\n",
    "    #True and False have a defined meaning in Python (boolean operators)\n",
    "\n",
    "def open_xyz(filename):\n",
    "    \"\"\"\n",
    "    Open and read an xyz file. Return table of symbols and coordinates.\n",
    "    \"\"\"\n",
    "    xyz_file=numpy.genfromtxt(fname=filename, skipheader=2, dtype='unicode')\n",
    "    symbols = xyz_file[:,0]\n",
    "    coordinates = xyz_file[:,1:]\n",
    "    coordinates = coordinates.astype(numpy.float)\n",
    "    return symbols, coordinates\n",
    "\n",
    "def print_bonds(atom_symbols, atom_coordinates):\n",
    "    \"\"\"\n",
    "    Prints atom symbols and bond length for a set of atoms.\n",
    "    \"\"\"\n",
    "    num_atoms = len(symbols)\n",
    "    for atom1 in range(0,num_atoms):\n",
    "        for atom2 in range(0,num_atoms):\n",
    "            if atom1 < atom2:\n",
    "                distance=calculate_distance(coordinates[atom1],coordinates[atom2])\n",
    "            #this calls the function below and you need to have already SHIFT-ENTERED the cell below for this cell to work\n",
    "                if bond_check(distance) is True:\n",
    "                #is True is optional because default is True\n",
    "                    print(F'{symbols[atom1]} to {symbols[atom2]}:{distance:.3f}')     "
   ]
  },
  {
   "cell_type": "code",
   "execution_count": 2,
   "metadata": {},
   "outputs": [],
   "source": [
    "# Running Python code from terminal\n",
    "# pwd means \"print working directory\"\n",
    "# cd means \"change directory\"\n",
    "# ls means list \n",
    "# from the command line, you can type ... python geometry-analysis.py"
   ]
  },
  {
   "cell_type": "code",
   "execution_count": 3,
   "metadata": {},
   "outputs": [],
   "source": [
    "# now modify code to allow it to accept a user input (aka argument)\n",
    "# import argparse (a new library)"
   ]
  },
  {
   "cell_type": "code",
   "execution_count": null,
   "metadata": {},
   "outputs": [],
   "source": [
    "# I got stuck at 2 hours 45 minutes because I can't get my script to run. I see this error message:\n",
    "# >>> geometry-analysis.py data/water.xyz\n",
    "#  File \"<stdin>\", line 1\n",
    "#    geometry-analysis.py data/water.xyz\n",
    "#                            ^\n",
    "# SyntaxError: invalid syntax"
   ]
  }
 ],
 "metadata": {
  "kernelspec": {
   "display_name": "Python 3",
   "language": "python",
   "name": "python3"
  },
  "language_info": {
   "codemirror_mode": {
    "name": "ipython",
    "version": 3
   },
   "file_extension": ".py",
   "mimetype": "text/x-python",
   "name": "python",
   "nbconvert_exporter": "python",
   "pygments_lexer": "ipython3",
   "version": "3.7.1"
  }
 },
 "nbformat": 4,
 "nbformat_minor": 2
}
