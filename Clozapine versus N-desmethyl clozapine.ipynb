{
 "cells": [
  {
   "cell_type": "code",
   "execution_count": 1,
   "metadata": {},
   "outputs": [],
   "source": [
    "import os\n",
    "import numpy as np\n",
    "import matplotlib.pyplot as plt"
   ]
  },
  {
   "cell_type": "code",
   "execution_count": 2,
   "metadata": {},
   "outputs": [
    {
     "name": "stdout",
     "output_type": "stream",
     "text": [
      "['conc_avg_DOPC_all' 'avg_DOPC_all' 'stdev_DOPC_all']\n",
      "[[ 0.00000e+00 -1.14000e-17  1.53341e-17]\n",
      " [ 5.00000e-07  1.89000e-01  6.91800e-02]\n",
      " [ 1.00000e-06  3.36000e-01  1.29749e-01]\n",
      " [ 2.00000e-06  8.21000e-01  0.00000e+00]\n",
      " [ 5.00000e-06  1.29000e+00  2.66784e-01]\n",
      " [ 1.00000e-05  1.72000e+00  2.58143e-01]\n",
      " [ 2.00000e-05  1.99000e+00  1.28156e-01]\n",
      " [ 5.00000e-05  2.29000e+00  1.26042e-01]]\n"
     ]
    }
   ],
   "source": [
    "clozapineData = os.path.join('IGOR_data','DOPC_clozapine_only.csv')\n",
    "\n",
    "contents = np.genfromtxt(fname=clozapineData, delimiter=',', dtype = 'unicode')\n",
    "headers = contents[0,:]\n",
    "data = contents[1:,:]\n",
    "data = data.astype(np.float)\n",
    "print(headers)\n",
    "print(data)"
   ]
  },
  {
   "cell_type": "code",
   "execution_count": 5,
   "metadata": {},
   "outputs": [
    {
     "data": {
      "image/png": "[encoded data removed]",
      "text/plain": [
       "<Figure size 432x288 with 1 Axes>"
      ]
     },
     "metadata": {
      "needs_background": "light"
     },
     "output_type": "display_data"
    }
   ],
   "source": [
    "plt.figure()\n",
    "\n",
    "X = data[:,0]\n",
    "Y = data[:,1]\n",
    "\n",
    "plt.xlabel('concentration(M)')\n",
    "plt.ylabel('SHG Intensity (a.u.)')\n",
    "plt.plot(X,Y,'ro',label=headers[1])\n",
    "plt.legend()\n",
    "plt.savefig('clozapine.jpeg')"
   ]
  },
  {
   "cell_type": "code",
   "execution_count": null,
   "metadata": {},
   "outputs": [],
   "source": []
  }
 ],
 "metadata": {
  "kernelspec": {
   "display_name": "Python 3",
   "language": "python",
   "name": "python3"
  },
  "language_info": {
   "codemirror_mode": {
    "name": "ipython",
    "version": 3
   },
   "file_extension": ".py",
   "mimetype": "text/x-python",
   "name": "python",
   "nbconvert_exporter": "python",
   "pygments_lexer": "ipython3",
   "version": "3.7.1"
  }
 },
 "nbformat": 4,
 "nbformat_minor": 2
}
