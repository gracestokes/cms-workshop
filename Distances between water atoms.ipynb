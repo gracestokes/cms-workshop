{
 "cells": [
  {
   "cell_type": "markdown",
   "metadata": {},
   "source": [
    "## How to determine the distances between H and O atoms in a water molecule"
   ]
  },
  {
   "cell_type": "code",
   "execution_count": 14,
   "metadata": {},
   "outputs": [],
   "source": [
    "import os\n",
    "import numpy"
   ]
  },
  {
   "cell_type": "code",
   "execution_count": 15,
   "metadata": {},
   "outputs": [
    {
     "name": "stdout",
     "output_type": "stream",
     "text": [
      "[['O' '0.000000' '-0.007156' '0.965491']\n",
      " ['H1' '-0.000000' '0.001486' '-0.003471']\n",
      " ['H2' '0.000000' '0.931026' '1.207929']]\n"
     ]
    }
   ],
   "source": [
    "file_location=os.path.join('data','water.xyz')\n",
    "xyz_file=numpy.genfromtxt(fname=file_location, skip_header=2,dtype='unicode')\n",
    "print(xyz_file)\n",
    "#unicode means mixed data = strings and floats\n",
    "#when you use numpy.genfromtxt, output is in a matrix or numpy array (you must have same number of columns in every row)\n",
    "#alternate method is readlines() but that method is not that sophisticated"
   ]
  },
  {
   "cell_type": "code",
   "execution_count": 16,
   "metadata": {},
   "outputs": [
    {
     "name": "stdout",
     "output_type": "stream",
     "text": [
      "['O' 'H1' 'H2']\n",
      "[['0.000000' '-0.007156' '0.965491']\n",
      " ['-0.000000' '0.001486' '-0.003471']\n",
      " ['0.000000' '0.931026' '1.207929']]\n"
     ]
    }
   ],
   "source": [
    "symbols = xyz_file[:,0]\n",
    "#[:,:] means every row, every column\n",
    "#[:,0] means every row, first/leftmost column only\n",
    "#[:,1:] means every row, column index 1 (2nd column) to the end\n",
    "coordinates = (xyz_file[:,1:])\n",
    "print(symbols)\n",
    "print(coordinates)"
   ]
  },
  {
   "cell_type": "code",
   "execution_count": 17,
   "metadata": {},
   "outputs": [
    {
     "name": "stdout",
     "output_type": "stream",
     "text": [
      "[[ 0.       -0.007156  0.965491]\n",
      " [-0.        0.001486 -0.003471]\n",
      " [ 0.        0.931026  1.207929]]\n"
     ]
    }
   ],
   "source": [
    "#recast coordinates into floats\n",
    "#astype means assign type\n",
    "coordinates = coordinates.astype(numpy.float)\n",
    "print(coordinates)"
   ]
  },
  {
   "cell_type": "code",
   "execution_count": 18,
   "metadata": {},
   "outputs": [],
   "source": [
    "#note that distance formula is markdown and needs $$ on both sides $$\n",
    "#I am at 18:28 in Session 3 video but I need to go back to Session 2 video starting at 1:19:26"
   ]
  },
  {
   "cell_type": "markdown",
   "metadata": {},
   "source": [
    "$$ distance = \\sqrt(x1-x2)^2 +(y1-y2)^2 + (z1-z2)^2) $$"
   ]
  },
  {
   "cell_type": "code",
   "execution_count": 28,
   "metadata": {},
   "outputs": [
    {
     "name": "stdout",
     "output_type": "stream",
     "text": [
      "3\n",
      "O to H1: 0.969\n",
      "O to H2: 0.969\n"
     ]
    }
   ],
   "source": [
    "num_atoms = len(symbols)\n",
    "#num_atoms should equal 3\n",
    "print(num_atoms)\n",
    "for num1 in range(0,num_atoms):\n",
    "    for num2 in range(0,num_atoms):\n",
    "        if num1 < num2:\n",
    "            x_distance=coordinates[num1,0]-coordinates[num2,0]\n",
    "            y_distance=coordinates[num1,1]-coordinates[num2,1]\n",
    "            z_distance=coordinates[num1,2]-coordinates[num2,2]\n",
    "            bond_length_12=numpy.sqrt(x_distance**2+y_distance**2+z_distance**2)\n",
    "            if bond_length_12 > 0 and bond_length_12 <= 1.5:\n",
    "                print(F'{symbols[num1]} to {symbols[num2]}: {bond_length_12:.3f}')\n",
    "\n",
    "    #In the last line, I don't know what capital F mean and I don't know what 3f means\n",
    "    #In Session 3 video around 29 min, Ashley says this is called F printing\n",
    "    #the .3f at the end formats the number of decimal places that I print (but it does not round, just truncates)"
   ]
  },
  {
   "cell_type": "code",
   "execution_count": 26,
   "metadata": {},
   "outputs": [],
   "source": []
  },
  {
   "cell_type": "code",
   "execution_count": null,
   "metadata": {},
   "outputs": [],
   "source": []
  }
 ],
 "metadata": {
  "kernelspec": {
   "display_name": "Python 3",
   "language": "python",
   "name": "python3"
  },
  "language_info": {
   "codemirror_mode": {
    "name": "ipython",
    "version": 3
   },
   "file_extension": ".py",
   "mimetype": "text/x-python",
   "name": "python",
   "nbconvert_exporter": "python",
   "pygments_lexer": "ipython3",
   "version": "3.7.1"
  }
 },
 "nbformat": 4,
 "nbformat_minor": 2
}
