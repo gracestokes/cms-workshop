{
 "cells": [
  {
   "cell_type": "markdown",
   "metadata": {},
   "source": [
    "## Version control with git"
   ]
  },
  {
   "cell_type": "code",
   "execution_count": null,
   "metadata": {},
   "outputs": [],
   "source": [
    "# I skipped this module (8) for now and went straight to git\n",
    "# Accomplishment = git was installed properly\n",
    "# I am at 1 hour, 48 minutes in Session4 video\n",
    "# global means \"do it for my whole computer\"\n",
    "# Use my actual name and my actual email address (get rid of the <...>)\n",
    "# Choose a default text editor\n",
    "# I am not sure I have atom text editor installed but I hope it works (the other option is vim)\n",
    "# Today no need for text editor\n",
    "# you only need to configure git once on each computer ever\n",
    "\n",
    "# repository is a collection of files related to a specific project\n",
    "# we have to tell git that a certain folder (like cms-workshop folder) is a repository\n",
    "# now git is going to watch the folder .git to see if there are any changes\n",
    "# import commands: git init (you only need to do once per project)\n",
    "# git status = tells us the status of the project (what files have been changed and what files are new)\n",
    "# git will only watch folders you tell it to watch or track folders you tell it to track\n",
    "# tell git to make a first version of a project\n",
    "\n",
    "# make a git commit\n",
    "# git add . (adds everything that is in the folder)\n",
    "# add initital project files '-m' means message\n",
    "# a commit is like a checkpoint\n",
    "# now I understand (kind of) what Tyler Luchko and Christina Vizcarra are doing on the website"
   ]
  }
 ],
 "metadata": {
  "kernelspec": {
   "display_name": "Python 3",
   "language": "python",
   "name": "python3"
  },
  "language_info": {
   "codemirror_mode": {
    "name": "ipython",
    "version": 3
   },
   "file_extension": ".py",
   "mimetype": "text/x-python",
   "name": "python",
   "nbconvert_exporter": "python",
   "pygments_lexer": "ipython3",
   "version": "3.7.1"
  }
 },
 "nbformat": 4,
 "nbformat_minor": 2
}
