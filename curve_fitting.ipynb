{
 "cells": [
  {
   "cell_type": "markdown",
   "metadata": {},
   "source": [
    "# Curve Fitting in Python\n",
    "\n",
    "### Introduction\n",
    "\n",
    "Python is a power tool for fitting data to any functional form.  You are no longer limited to the simple linear or polynominal functions you could fit in Excel.  You can also calculate the standard error for any parameter in a functional fit.\n",
    "\n",
    "The basic steps to fitting data are:\n",
    "1.  Import the `curve_fit` function from scipy.\n",
    "2.  Create a list or numpy array of your independent variable (your x values).  You might read this data in from another source, like a CSV file.\n",
    "3.  Create a list of numpy array of your depedent variables (your y values).  You might read this data in from another source, like a CSV file.\n",
    "4.  Create a function for the equation you want to fit.  The function should accept as inputs the dependent variable and all the parameters to be fit.\n",
    "5.  Use the function `curve_fit` to fit your data.\n",
    "6.  Extract the fit parameters from the output of `curve_fit`.\n",
    "7.  Call you function to calculate y values using your fit model to see how well your model fits the data.\n",
    "8.  Graph your original data and the fit equation.\n",
    "\n",
    "Remember that as you go through the tutorial, you will need to run each cell."
   ]
  },
  {
   "cell_type": "markdown",
   "metadata": {},
   "source": [
    "### Example 1\n",
    "\n",
    "First, let's import the relevant libraries we will need.  As usual, we will import `matplotlib.pyplot` and `numpy`.  We will also import the new `curve_fit` function from `scipy`."
   ]
  },
  {
   "cell_type": "code",
   "execution_count": 1,
   "metadata": {},
   "outputs": [],
   "source": [
    "import numpy as np\n",
    "import matplotlib.pyplot as plt\n",
    "from scipy.optimize import curve_fit"
   ]
  },
  {
   "cell_type": "markdown",
   "metadata": {},
   "source": [
    "Now consider the following data.  Let's make a graph to look at it."
   ]
  },
  {
   "cell_type": "code",
   "execution_count": 3,
   "metadata": {},
   "outputs": [
    {
     "data": {
      "text/plain": [
       "[<matplotlib.lines.Line2D at 0x101fb4ccf8>]"
      ]
     },
     "execution_count": 3,
     "metadata": {},
     "output_type": "execute_result"
    },
    {
     "data": {
      "image/png": "[encoded data removed]",
      "text/plain": [
       "<Figure size 432x288 with 1 Axes>"
      ]
     },
     "metadata": {
      "needs_background": "light"
     },
     "output_type": "display_data"
    }
   ],
   "source": [
    "#Specify xdata and ydata as lists\n",
    "xdata = [ -10.0, -9.0, -8.0, -7.0, -6.0, -5.0, -4.0, -3.0, -2.0, -1.0, 0.0, 1.0, 2.0, 3.0, 4.0, 5.0, 6.0, 7.0, 8.0, 9.0, 10.0]\n",
    "ydata = [1.2, 4.2, 6.7, 8.3, 10.6, 11.7, 13.5, 14.5, 15.7, 16.1, 16.6, 16.0, 15.4, 14.4, 14.2, 12.7, 10.3, 8.6, 6.1, 3.9, 2.1]\n",
    "\n",
    "#Make xdata and ydata into numpy arrays so we can use their handy features\n",
    "xdata = np.asarray(xdata)\n",
    "ydata = np.asarray(ydata)\n",
    "plt.plot(xdata, ydata, 'ro')"
   ]
  },
  {
   "cell_type": "markdown",
   "metadata": {},
   "source": [
    "This data could probably be fit to many functional forms.  We will try two different functional forms.  (Looking at data and knowing what function it might fit to is extremely difficult and beyond the scope of what we will discuss here.  For purposes of our class, you will always know what functional form you should be fitting to.)\n",
    "1.  Gaussian Function: $ y = A e^{-Bx^2} $\n",
    "2.  Cosine Function: $ D cos (E x) $"
   ]
  },
  {
   "cell_type": "code",
   "execution_count": 4,
   "metadata": {},
   "outputs": [],
   "source": [
    "# Code input for the Gaussian function fit\n",
    "\n",
    "# Define the Gaussian function\n",
    "def Gauss(x, A, B):\n",
    "    y = A*np.exp(-1*B*x**2)\n",
    "    return y\n",
    "\n",
    "#Save the output of curve_fit as params\n",
    "parameters, covariance = curve_fit(Gauss, xdata, ydata)"
   ]
  },
  {
   "cell_type": "markdown",
   "metadata": {},
   "source": [
    "The output of `curve_fit` is two things.  The first, which we have called parameteres, is an array of the optimal values of the parameters.  The second, which we have called covariance, is the estimated covariance of the parameters.  We will extract the optimized fit parameters."
   ]
  },
  {
   "cell_type": "code",
   "execution_count": 6,
   "metadata": {},
   "outputs": [
    {
     "name": "stdout",
     "output_type": "stream",
     "text": [
      "A= 16.934286340519687\n",
      "B= 0.015739600927241554\n"
     ]
    }
   ],
   "source": [
    "# Separate the parameters\n",
    "fit_A = parameters[0]\n",
    "fit_B = parameters[1]\n",
    "print(\"A=\",fit_A)\n",
    "print(\"B=\",fit_B)"
   ]
  },
  {
   "cell_type": "markdown",
   "metadata": {},
   "source": [
    "Now we want to see how well our model fits our data.  To do this, we will calculate values of y, using our function and the fit values of A and B, and then we will make a plot to compare the fit values to our data."
   ]
  },
  {
   "cell_type": "code",
   "execution_count": 7,
   "metadata": {},
   "outputs": [
    {
     "data": {
      "text/plain": [
       "<matplotlib.legend.Legend at 0x101fca2198>"
      ]
     },
     "execution_count": 7,
     "metadata": {},
     "output_type": "execute_result"
    },
    {
     "data": {
      "image/png": "[encoded data removed]",
      "text/plain": [
       "<Figure size 432x288 with 1 Axes>"
      ]
     },
     "metadata": {
      "needs_background": "light"
     },
     "output_type": "display_data"
    }
   ],
   "source": [
    "fit_y = Gauss(xdata, fit_A, fit_B)\n",
    "plt.plot(xdata, ydata, 'o', label='data')\n",
    "plt.plot(xdata, fit_y, '-', label='fit')\n",
    "plt.legend()\n"
   ]
  },
  {
   "cell_type": "markdown",
   "metadata": {},
   "source": [
    "To calculate the standard error of the parameters from the covariance, you take the square root of the diagonal elements of the matrix.  You can do this in one line using functions from `numpy`."
   ]
  },
  {
   "cell_type": "code",
   "execution_count": 8,
   "metadata": {},
   "outputs": [
    {
     "name": "stdout",
     "output_type": "stream",
     "text": [
      "[0.35658082 0.0008652 ]\n"
     ]
    }
   ],
   "source": [
    "SE = np.sqrt(np.diag(covariance))\n",
    "print(SE)"
   ]
  },
  {
   "cell_type": "code",
   "execution_count": 9,
   "metadata": {},
   "outputs": [
    {
     "name": "stdout",
     "output_type": "stream",
     "text": [
      "The value of A is 16.93429 with standard error of 0.35658.\n",
      "The value of B is 0.01574 with standard error of 0.00087.\n"
     ]
    }
   ],
   "source": [
    "SE_A = SE[0]\n",
    "SE_B = SE[1]\n",
    "\n",
    "print(F'The value of A is {fit_A:.5f} with standard error of {SE_A:.5f}.')\n",
    "print(F'The value of B is {fit_B:.5f} with standard error of {SE_B:.5f}.')"
   ]
  },
  {
   "cell_type": "markdown",
   "metadata": {},
   "source": [
    "### Example 2\n",
    "\n",
    "The cosine function proves to be a bit trickier.  If we approach the problem as we do above, we see from the graph that we don't get a good fit."
   ]
  },
  {
   "cell_type": "code",
   "execution_count": 10,
   "metadata": {},
   "outputs": [],
   "source": [
    "def cos_func(x, D, E):\n",
    "    y = D*np.cos(E*x)\n",
    "    return y"
   ]
  },
  {
   "cell_type": "code",
   "execution_count": 11,
   "metadata": {},
   "outputs": [
    {
     "data": {
      "text/plain": [
       "[<matplotlib.lines.Line2D at 0x10200fbeb8>]"
      ]
     },
     "execution_count": 11,
     "metadata": {},
     "output_type": "execute_result"
    },
    {
     "data": {
      "image/png": "[encoded data removed]",
      "text/plain": [
       "<Figure size 432x288 with 1 Axes>"
      ]
     },
     "metadata": {
      "needs_background": "light"
     },
     "output_type": "display_data"
    }
   ],
   "source": [
    "parameters, covariance = curve_fit(cos_func, xdata, ydata)\n",
    "fit_D = parameters[0]\n",
    "fit_E = parameters[1]\n",
    "\n",
    "fit_cosine = cos_func(xdata, fit_D, fit_E)\n",
    "\n",
    "plt.plot(xdata, ydata, 'o', label='data')\n",
    "plt.plot(xdata, fit_cosine, '-', label='fit')"
   ]
  },
  {
   "cell_type": "markdown",
   "metadata": {},
   "source": [
    "To fix this, we need to give a guess for what we think our parameters are.  Thinking about the form of the cosine function, the height of the function is controlled by the D parameter.  Looking at our graph, it seems the value of D is somewhere between 15 and 17.  Similarly, the E parameter tells us how many cycles occur over the 0 to 2$\\pi$ interval.  This is a very wide graph; there is clearly much less than one cycle between 0 and 2$\\pi$, so we will guess that E is between 0 and 1.  To incorporate these guesses into our code, we create two new arrays.  One array specifies the lower bound for each parameter; the other specifies the upper bound for each parameter.  We then specify these bounds when we call `curve_fit`.  "
   ]
  },
  {
   "cell_type": "code",
   "execution_count": 12,
   "metadata": {},
   "outputs": [
    {
     "data": {
      "text/plain": [
       "[<matplotlib.lines.Line2D at 0x10201ddb00>]"
      ]
     },
     "execution_count": 12,
     "metadata": {},
     "output_type": "execute_result"
    },
    {
     "data": {
      "image/png": "[encoded data removed]",
      "text/plain": [
       "<Figure size 432x288 with 1 Axes>"
      ]
     },
     "metadata": {
      "needs_background": "light"
     },
     "output_type": "display_data"
    }
   ],
   "source": [
    "lower = [15, 0]\n",
    "upper = [17, 1]\n",
    "parameters, covariance = curve_fit(cos_func, xdata, ydata, bounds=(lower, upper) )\n",
    "fit_D = parameters[0]\n",
    "fit_E = parameters[1]\n",
    "\n",
    "fit_cosine = cos_func(xdata, fit_D, fit_E)\n",
    "\n",
    "plt.plot(xdata, ydata, 'o', label='data')\n",
    "plt.plot(xdata, fit_cosine, '-', label='fit')"
   ]
  },
  {
   "cell_type": "markdown",
   "metadata": {},
   "source": [
    "Now that looks like a good fit!  \n",
    "\n",
    "Frequently, you will have to adjust your guesses to get a good fit for your data.  If you understand the physical significance of your data and the equation you are trying to fit, you will have an easier time fitting your data."
   ]
  },
  {
   "cell_type": "markdown",
   "metadata": {},
   "source": [
    "### Exercise\n",
    "\n",
    "Calculate the standard error for the D and E parameters.  Print each parameter and its standard error."
   ]
  },
  {
   "cell_type": "code",
   "execution_count": 13,
   "metadata": {},
   "outputs": [
    {
     "name": "stdout",
     "output_type": "stream",
     "text": [
      "The values of D is 16.31473 and the standard error is 0.11091.\n",
      "The value of E is 0.14649 and the standard error is 0.00090.\n"
     ]
    }
   ],
   "source": [
    "SE = np.sqrt(np.diag(covariance))\n",
    "SE_D = SE[0]\n",
    "SE_E = SE[1]\n",
    "\n",
    "print(F'The values of D is {fit_D:.5f} and the standard error is {SE_D:.5f}.')\n",
    "print(F'The value of E is {fit_E:.5f} and the standard error is {SE_E:.5f}.')"
   ]
  },
  {
   "cell_type": "code",
   "execution_count": null,
   "metadata": {},
   "outputs": [],
   "source": []
  }
 ],
 "metadata": {
  "kernelspec": {
   "display_name": "Python 3",
   "language": "python",
   "name": "python3"
  },
  "language_info": {
   "codemirror_mode": {
    "name": "ipython",
    "version": 3
   },
   "file_extension": ".py",
   "mimetype": "text/x-python",
   "name": "python",
   "nbconvert_exporter": "python",
   "pygments_lexer": "ipython3",
   "version": "3.7.1"
  }
 },
 "nbformat": 4,
 "nbformat_minor": 2
}
